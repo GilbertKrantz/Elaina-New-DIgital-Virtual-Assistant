{
 "cells": [
  {
   "cell_type": "code",
   "execution_count": 1,
   "metadata": {},
   "outputs": [
    {
     "name": "stderr",
     "output_type": "stream",
     "text": [
      "c:\\ProgramData\\anaconda3\\envs\\AOL-AI\\Lib\\site-packages\\tqdm\\auto.py:21: TqdmWarning: IProgress not found. Please update jupyter and ipywidgets. See https://ipywidgets.readthedocs.io/en/stable/user_install.html\n",
      "  from .autonotebook import tqdm as notebook_tqdm\n"
     ]
    }
   ],
   "source": [
    "from transformers import SpeechT5Processor, SpeechT5ForTextToSpeech, SpeechT5HifiGan\n",
    "from datasets import load_dataset\n",
    "import torch\n",
    "import random\n",
    "import string\n",
    "import soundfile as sf\n",
    "\n",
    "device = \"cuda\" if torch.cuda.is_available() else \"cpu\""
   ]
  },
  {
   "cell_type": "code",
   "execution_count": 2,
   "metadata": {},
   "outputs": [],
   "source": [
    "# load the processor\n",
    "processor = SpeechT5Processor.from_pretrained(\"microsoft/speecht5_tts\")\n",
    "# load the model\n",
    "model = SpeechT5ForTextToSpeech.from_pretrained(\"microsoft/speecht5_tts\").to(device)\n",
    "# load the vocoder, that is the voice encoder\n",
    "vocoder = SpeechT5HifiGan.from_pretrained(\"microsoft/speecht5_hifigan\").to(device)\n",
    "# we load this dataset to get the speaker embeddings\n",
    "embeddings_dataset = load_dataset(\"Matthijs/cmu-arctic-xvectors\", split=\"validation\")"
   ]
  },
  {
   "cell_type": "code",
   "execution_count": 3,
   "metadata": {},
   "outputs": [],
   "source": [
    "# speaker ids from the embeddings dataset\n",
    "speakers = {\n",
    "    'awb': 0,     # Scottish male\n",
    "    'bdl': 1138,  # US male\n",
    "    'clb': 2271,  # US female\n",
    "    'jmk': 3403,  # Canadian male\n",
    "    'ksp': 4535,  # Indian male\n",
    "    'rms': 5667,  # US male\n",
    "    'slt': 6799   # US female\n",
    "}"
   ]
  },
  {
   "cell_type": "code",
   "execution_count": 4,
   "metadata": {},
   "outputs": [],
   "source": [
    "def save_text_to_speech(text, speaker=None):\n",
    "    # preprocess text\n",
    "    inputs = processor(text=text, return_tensors=\"pt\").to(device)\n",
    "    if speaker is not None:\n",
    "        # load xvector containing speaker's voice characteristics from a dataset\n",
    "        speaker_embeddings = torch.tensor(embeddings_dataset[speaker][\"xvector\"]).unsqueeze(0).to(device)\n",
    "    else:\n",
    "        # random vector, meaning a random voice\n",
    "        speaker_embeddings = torch.randn((1, 512)).to(device)\n",
    "    # generate speech with the models\n",
    "    speech = model.generate_speech(inputs[\"input_ids\"], speaker_embeddings, vocoder=vocoder)\n",
    "    if speaker is not None:\n",
    "        # if we have a speaker, we use the speaker's ID in the filename\n",
    "        output_filename = f\"{speaker}-{'-'.join(text.split()[:6])}.mp3\"\n",
    "    else:\n",
    "        # if we don't have a speaker, we use a random string in the filename\n",
    "        random_str = ''.join(random.sample(string.ascii_letters+string.digits, k=5))\n",
    "        output_filename = f\"{random_str}-{'-'.join(text.split()[:6])}.mp3\"\n",
    "    # save the generated speech to a file with 16KHz sampling rate\n",
    "    sf.write(output_filename, speech.cpu().numpy(), samplerate=16000)\n",
    "    # return the filename for reference\n",
    "    return output_filename"
   ]
  },
  {
   "cell_type": "code",
   "execution_count": 5,
   "metadata": {},
   "outputs": [
    {
     "data": {
      "text/plain": [
       "'6799-Python-is-my-favorite-programming-language.mp3'"
      ]
     },
     "execution_count": 5,
     "metadata": {},
     "output_type": "execute_result"
    }
   ],
   "source": [
    "# generate speech with a US female voice\n",
    "save_text_to_speech(\"Python is my favorite programming language\", speaker=speakers[\"slt\"])"
   ]
  },
  {
   "cell_type": "code",
   "execution_count": 6,
   "metadata": {},
   "outputs": [
    {
     "data": {
      "text/plain": [
       "'UqWZn-Python-is-my-favorite-programming-language.mp3'"
      ]
     },
     "execution_count": 6,
     "metadata": {},
     "output_type": "execute_result"
    }
   ],
   "source": [
    "# generate speech with a random voice\n",
    "save_text_to_speech(\"Python is my favorite programming language\")"
   ]
  }
 ],
 "metadata": {
  "kernelspec": {
   "display_name": "AOL-AI",
   "language": "python",
   "name": "python3"
  },
  "language_info": {
   "codemirror_mode": {
    "name": "ipython",
    "version": 3
   },
   "file_extension": ".py",
   "mimetype": "text/x-python",
   "name": "python",
   "nbconvert_exporter": "python",
   "pygments_lexer": "ipython3",
   "version": "3.11.5"
  },
  "orig_nbformat": 4
 },
 "nbformat": 4,
 "nbformat_minor": 2
}
