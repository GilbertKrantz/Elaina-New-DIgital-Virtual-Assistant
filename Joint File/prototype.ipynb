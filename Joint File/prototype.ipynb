{
 "cells": [
  {
   "cell_type": "markdown",
   "metadata": {},
   "source": [
    "# Get LLm Model"
   ]
  },
  {
   "cell_type": "code",
   "execution_count": null,
   "metadata": {},
   "outputs": [],
   "source": [
    "from characterai import PyCAI\n",
    "\n",
    "client = PyCAI('[user-token]')\n",
    "\n",
    "char = '[character-token]'\n",
    "\n",
    "chat = client.chat.get_chat(char)\n",
    "\n",
    "participants = chat['participants']\n",
    "\n",
    "if not participants[0]['is_human']:\n",
    "    tgt = participants[0]['user']['username']\n",
    "else:\n",
    "    tgt = participants[1]['user']['username']\n",
    "\n",
    "while True:\n",
    "    message = input('You: ')\n",
    "\n",
    "    data = client.chat.send_message(\n",
    "        chat['external_id'], tgt, message\n",
    "    )\n",
    "\n",
    "    name = data['src_char']['participant']['name']\n",
    "    text = data['replies'][0]['text']\n",
    "\n",
    "    print(f\"{name}: {text}\")\n",
    "\n",
    "# Get token: JSON.parse(localStorage.getItem('char_token')).value in console"
   ]
  },
  {
   "cell_type": "markdown",
   "metadata": {},
   "source": [
    "# STT"
   ]
  },
  {
   "cell_type": "code",
   "execution_count": null,
   "metadata": {},
   "outputs": [],
   "source": [
    "import speech_recognition as sr\n",
    "\n",
    "def speech_to_text(microphone, recognizer):\n",
    "\n",
    "    with microphone as source:\n",
    "        recognizer.adjust_for_ambient_noise(source)\n",
    "\n",
    "    print(\"Listening...\")\n",
    "    with microphone as source:\n",
    "        audio = recognizer.listen(source)\n",
    "\n",
    "    try:\n",
    "        text = recognizer.recognize_google(audio)\n",
    "        print(\"Recognized Text: \", text)\n",
    "\n",
    "    except sr.UnknownValueError:\n",
    "        print(\"Speech Recognition could not understand audio\")\n",
    "\n",
    "    except sr.RequestError as e:\n",
    "        print(\"Could not request results from Google Speech Recognition service; {0}\".format(e))\n",
    "\n",
    "    return text\n",
    "\n",
    "if __name__ == \"__main__\":\n",
    "\n",
    "    recognizer = sr.Recognizer()\n",
    "    microphone = sr.Microphone()\n",
    "\n",
    "    while(True):\n",
    "        speech_to_text(microphone, recognizer)"
   ]
  },
  {
   "cell_type": "markdown",
   "metadata": {},
   "source": [
    "# TTS"
   ]
  },
  {
   "cell_type": "code",
   "execution_count": 1,
   "metadata": {},
   "outputs": [
    {
     "name": "stderr",
     "output_type": "stream",
     "text": [
      "c:\\ProgramData\\anaconda3\\envs\\AOL-AI\\Lib\\site-packages\\tqdm\\auto.py:21: TqdmWarning: IProgress not found. Please update jupyter and ipywidgets. See https://ipywidgets.readthedocs.io/en/stable/user_install.html\n",
      "  from .autonotebook import tqdm as notebook_tqdm\n"
     ]
    }
   ],
   "source": [
    "from transformers import SpeechT5Processor, SpeechT5ForTextToSpeech, SpeechT5HifiGan\n",
    "from datasets import load_dataset\n",
    "from playsound import playsound\n",
    "import torch\n",
    "import random\n",
    "import string\n",
    "import soundfile as sf\n",
    "\n",
    "device = \"cuda\" if torch.cuda.is_available() else \"cpu\"\n"
   ]
  },
  {
   "cell_type": "code",
   "execution_count": 2,
   "metadata": {},
   "outputs": [
    {
     "name": "stderr",
     "output_type": "stream",
     "text": [
      "Downloading (…)rocessor_config.json: 100%|██████████| 433/433 [00:00<?, ?B/s] \n",
      "c:\\ProgramData\\anaconda3\\envs\\AOL-AI\\Lib\\site-packages\\huggingface_hub\\file_download.py:137: UserWarning: `huggingface_hub` cache-system uses symlinks by default to efficiently store duplicated files but your machine does not support them in C:\\Users\\kanek\\.cache\\huggingface\\hub. Caching files will still work but in a degraded version that might require more space on your disk. This warning can be disabled by setting the `HF_HUB_DISABLE_SYMLINKS_WARNING` environment variable. For more details, see https://huggingface.co/docs/huggingface_hub/how-to-cache#limitations.\n",
      "To support symlinks on Windows, you either need to activate Developer Mode or to run Python as an administrator. In order to see activate developer mode, see this article: https://docs.microsoft.com/en-us/windows/apps/get-started/enable-your-device-for-development\n",
      "  warnings.warn(message)\n",
      "Downloading spm_char.model: 100%|██████████| 238k/238k [00:00<00:00, 5.96MB/s]\n",
      "Downloading added_tokens.json: 100%|██████████| 40.0/40.0 [00:00<?, ?B/s]\n",
      "Downloading (…)cial_tokens_map.json: 100%|██████████| 234/234 [00:00<?, ?B/s] \n",
      "Downloading tokenizer_config.json: 100%|██████████| 232/232 [00:00<?, ?B/s] \n",
      "Downloading config.json: 100%|██████████| 2.06k/2.06k [00:00<?, ?B/s]\n",
      "Downloading pytorch_model.bin:  14%|█▍        | 83.9M/585M [03:33<19:40, 425kB/s]"
     ]
    }
   ],
   "source": [
    "# load the processor\n",
    "processor = SpeechT5Processor.from_pretrained(\"microsoft/speecht5_tts\")\n",
    "# load the model\n",
    "model = SpeechT5ForTextToSpeech.from_pretrained(\"microsoft/speecht5_tts\").to(device)\n",
    "# load the vocoder, that is the voice encoder\n",
    "vocoder = SpeechT5HifiGan.from_pretrained(\"microsoft/speecht5_hifigan\").to(device)\n",
    "# we load this dataset to get the speaker embeddings\n",
    "embeddings_dataset = load_dataset(\"Matthijs/cmu-arctic-xvectors\", split=\"validation\")\n"
   ]
  },
  {
   "cell_type": "code",
   "execution_count": null,
   "metadata": {},
   "outputs": [],
   "source": [
    "\n",
    "# speaker ids from the embeddings dataset\n",
    "speakers = {\n",
    "    'awb': 0,     # Scottish male\n",
    "    'bdl': 1138,  # US male\n",
    "    'clb': 2271,  # US female\n",
    "    'jmk': 3403,  # Canadian male\n",
    "    'ksp': 4535,  # Indian male\n",
    "    'rms': 5667,  # US male\n",
    "    'slt': 6799   # US female\n",
    "}\n"
   ]
  },
  {
   "cell_type": "code",
   "execution_count": null,
   "metadata": {},
   "outputs": [],
   "source": [
    "\n",
    "def save_text_to_speech(text, speaker=None):\n",
    "    # preprocess text\n",
    "    inputs = processor(text=text, return_tensors=\"pt\").to(device)\n",
    "    if speaker is not None:\n",
    "        # load xvector containing speaker's voice characteristics from a dataset\n",
    "        speaker_embeddings = torch.tensor(embeddings_dataset[speaker][\"xvector\"]).unsqueeze(0).to(device)\n",
    "    else:\n",
    "        # random vector, meaning a random voice\n",
    "        speaker_embeddings = torch.randn((1, 512)).to(device)\n",
    "    # generate speech with the models\n",
    "    speech = model.generate_speech(inputs[\"input_ids\"], speaker_embeddings, vocoder=vocoder)\n",
    "    if speaker is not None:\n",
    "        # if we have a speaker, we use the speaker's ID in the filename\n",
    "        output_filename = f\"../Cache/audio.mp3\"\n",
    "    else:\n",
    "        # if we don't have a speaker, we use a random string in the filename\n",
    "        random_str = ''.join(random.sample(string.ascii_letters+string.digits, k=5))\n",
    "        output_filename = f\"../Cache/audio.mp3\"\n",
    "    # save the generated speech to a file with 16KHz sampling rate\n",
    "    sf.write(output_filename, speech.cpu().numpy(), samplerate=16000)\n",
    "    # return the filename for reference\n",
    "    return output_filename\n"
   ]
  },
  {
   "cell_type": "code",
   "execution_count": null,
   "metadata": {},
   "outputs": [],
   "source": [
    "\n",
    "# generate speech with a US female voice\n",
    "\n",
    "if __name__ == \"__main__\" : \n",
    "    # TTS Function\n",
    "    save_text_to_speech(text, speaker=speakers[\"slt\"])\n",
    "    # Playing Sounds\n",
    "    playsound(\"../Cache/audio.mp3\")\n"
   ]
  }
 ],
 "metadata": {
  "kernelspec": {
   "display_name": "AOL-AI",
   "language": "python",
   "name": "python3"
  },
  "language_info": {
   "codemirror_mode": {
    "name": "ipython",
    "version": 3
   },
   "file_extension": ".py",
   "mimetype": "text/x-python",
   "name": "python",
   "nbconvert_exporter": "python",
   "pygments_lexer": "ipython3",
   "version": "3.11.5"
  }
 },
 "nbformat": 4,
 "nbformat_minor": 2
}
